{
 "cells": [
  {
   "cell_type": "markdown",
   "metadata": {},
   "source": [
    "## Writeup Template\n",
    "### You can use this file as a template for your writeup if you want to submit it as a markdown file, but feel free to use some other method and submit a pdf if you prefer.\n",
    "\n",
    "---\n",
    "\n",
    "**Vehicle Detection Project**\n",
    "\n",
    "The goals / steps of this project are the following:\n",
    "\n",
    "* Perform a Histogram of Oriented Gradients (HOG) feature extraction on a labeled training set of images and train a classifier Linear SVM classifier\n",
    "* Optionally, you can also apply a color transform and append binned color features, as well as histograms of color, to your HOG feature vector. \n",
    "* Note: for those first two steps don't forget to normalize your features and randomize a selection for training and testing.\n",
    "* Implement a sliding-window technique and use your trained classifier to search for vehicles in images.\n",
    "* Run your pipeline on a video stream (start with the test_video.mp4 and later implement on full project_video.mp4) and create a heat map of recurring detections frame by frame to reject outliers and follow detected vehicles.\n",
    "* Estimate a bounding box for vehicles detected.\n",
    "\n",
    "[//]: # (Image References)\n",
    "\n",
    "\n",
    "## [Rubric](https://review.udacity.com/#!/rubrics/513/view) Points\n",
    "### Here I will consider the rubric points individually and describe how I addressed each point in my implementation.  \n",
    "\n",
    "---\n",
    "### Writeup / README"
   ]
  },
  {
   "cell_type": "markdown",
   "metadata": {},
   "source": [
    "#### 1. Provide a Writeup / README that includes all the rubric points and how you addressed each one.  You can submit your writeup as markdown or pdf.  [Here](https://github.com/udacity/CarND-Vehicle-Detection/blob/master/writeup_template.md) is a template writeup for this project you can use as a guide and a starting point.  \n",
    "\n",
    "You're reading it!"
   ]
  },
  {
   "cell_type": "markdown",
   "metadata": {},
   "source": [
    "### Histogram of Oriented Gradients (HOG)\n",
    "\n",
    "\n",
    "#### 1. Explain how (and identify where in your code) you extracted HOG features from the training images.\n",
    "\n",
    "Feature extraction for training the SVC model is handled in the `extract_features()` function on lines 108-131 in `detection.py`.\n",
    "\n",
    "The data being fed into the function is labeled images that contain examples of both `vehicle` and `non-vehicle` images. Here is an example of one of each of the `vehicle` and `non-vehicle` classes:\n",
    "\n",
    "[image1]: ./examples/car_not_car.png\n",
    "![alt text][image1]\n",
    "\n",
    "I then explored different color spaces and different `skimage.hog()` parameters (`orientations`, `pixels_per_cell`, and `cells_per_block`).  I grabbed random images from each of the two classes and displayed them to get a feel for what the `skimage.hog()` output looks like.\n",
    "\n",
    "Here is an example using the `YUV` color space and HOG parameters of `orientations=9`, `pixels_per_cell=(8, 8)` and `cells_per_block=(2, 2)`:\n",
    "\n",
    "[image2]: ./examples/HOG_example.jpg\n",
    "![alt text][image2]"
   ]
  },
  {
   "cell_type": "markdown",
   "metadata": {},
   "source": [
    "#### 2. Explain how you settled on your final choice of HOG parameters.\n",
    "\n",
    "I tried various combinations of parameters and channels before setting on a combination of the YUV color space and using only Channel 1. This seemed to provide a nice combination of efficiency (only computing hog against one channel) and the best predictive performance after training the model.\n",
    "\n"
   ]
  },
  {
   "cell_type": "markdown",
   "metadata": {},
   "source": [
    "#### 3. Describe how (and identify where in your code) you trained a classifier using your selected HOG features (and color features if you used them).\n",
    "\n",
    "I trained a linear SVM using a combination of the following features: HOG Channel 1, Spatial Histogram, and Color histograms. I converted the RGB images to the YUV color channels before performing the feature extraction. You can see the parameter tuning and image processing / feature extraction on lines 421-469. Additionally you can see the detailed feature extration steps in the function `extract_features()` on lines 108-131.\n",
    "\n",
    "I then normalize the feature data and fed it into a SVM classifier on lines 474-495\n",
    "\n",
    "### Sliding Window Search\n",
    "\n",
    "#### 1. Describe how (and identify where in your code) you implemented a sliding window search.  How did you decide what scales to search and how much to overlap windows?\n",
    "\n",
    "In order to find out where vehicles were located in a frame I did a sliding window search and ran each window through the SVM model. The windows are intially calculated given the window size and overlap parameters in the function `slide_window()` on lines 154-198.\n",
    "\n",
    "Once we have a collection of windows across the image that we want to search we then process each individual window in the function `search_windows()` on lines 277-316 to predict which windows contain a vehicle. \n",
    "\n",
    "In the function `find_vehicles_in_frames()` we pass search parameters to `grid_search()` which in turn utilizes `slide_window()` and `search_windows` to iterate across the image searching for vehicles. The function returns a list of windows detected by our model to then be processed.\n",
    "\n",
    "[image3]: ./examples/sliding_windows.jpg\n",
    "![alt text][image3]\n",
    "\n",
    "#### 2. Show some examples of test images to demonstrate how your pipeline is working.  What did you do to optimize the performance of your classifier?\n",
    "\n",
    "After a lot of experimentation around search parameters I ended up going with 4 window sizes against 4 different x&y coordinate regions. I used smaller windows as the cars were closer to the horizon and larger windows as they were closer to the camera. This provided a goodd amount of reliability in detection at different vehicle sizes.\n",
    "\n",
    "Here are is an example search result:\n",
    "\n",
    "[image4]: ./examples/sliding_window.jpg\n",
    "![alt text][image4]\n",
    "---\n",
    "\n"
   ]
  },
  {
   "cell_type": "markdown",
   "metadata": {},
   "source": [
    "### Video Implementation\n",
    "\n",
    "#### 1. Provide a link to your final video output.  Your pipeline should perform reasonably well on the entire project video (somewhat wobbly or unstable bounding boxes are ok as long as you are identifying the vehicles most of the time with minimal false positives.)\n",
    "\n",
    "The video is attached to the project submission as project_video_final.mp4\n",
    "\n",
    "\n",
    "#### 2. Describe how (and identify where in your code) you implemented some kind of filter for false positives and some method for combining overlapping bounding boxes.\n",
    "\n",
    "I recorded the positions of positive detections in each frame of the video.  From the positive detections I created a heatmap and then thresholded that map to identify vehicle positions.  I then used `scipy.ndimage.measurements.label()` to identify individual blobs in the heatmap.  I then assumed each blob corresponded to a vehicle.  I constructed bounding boxes to cover the area of each blob detected.  \n",
    "\n",
    "Here's an example result showing the heatmap from a series of frames of video, the result of `scipy.ndimage.measurements.label()` and the bounding boxes then overlaid on the last frame of video:\n",
    "\n"
   ]
  },
  {
   "cell_type": "markdown",
   "metadata": {},
   "source": [
    "### Here are four frames and their corresponding heatmaps:\n",
    "\n",
    "[image10]: ./writeup_data/windows_and_hotspots_1.png\n",
    "![alt text][image10]\n",
    "[image11]: ./writeup_data/windows_and_hotspots_2.png\n",
    "![alt text][image10]\n",
    "[image12]: ./writeup_data/windows_and_hotspots_3.png\n",
    "![alt text][image10]\n",
    "[image13]: ./writeup_data/windows_and_hotspots_4.png\n",
    "![alt text][image10]\n",
    "\n",
    "### Here is the output of `scipy.ndimage.measurements.label()` on the integrated heatmap from all six frames:\n",
    "\n",
    "[image6]: ./examples/labels_map.png\n",
    "![alt text][image6]\n",
    "\n",
    "### Here the resulting bounding boxes are drawn onto the last frame in the series:\n",
    "\n",
    "[image7]: ./examples/output_bboxes.png\n",
    "![alt text][image7]\n",
    "\n",
    "From there I placed all of the detected vehicles in a list which I used as a buffer for the last N detections. To further filter out false positives I then used the OpenCV function `cv2.groupRectangles()` to essentially find the centroids of the rectangle groups and  ignore outliers by using a threshold for grouping (less than 4 instances in a grouping and it would be ignored)\n",
    "\n"
   ]
  },
  {
   "cell_type": "markdown",
   "metadata": {},
   "source": [
    "---\n",
    "\n",
    "### Discussion\n",
    "\n",
    "#### 1. Briefly discuss any problems / issues you faced in your implementation of this project.  Where will your pipeline likely fail?  What could you do to make it more robust?\n",
    "\n",
    "This was a pretty challenging project in that while your model or choice of grid search paramters may work on a still image or across a few seconds of video running it against the full project video (50 seconds total). This meant that if you tuned the parameters to overly fit a particular image or sequence of frames it could cause a regression in overall quality.\n",
    "\n",
    "I think if I had more time I would refactor the code in a way that's far more modular and one allow for programmatic batch processing across various parameter thresholds. While this would take a significant amount of processing power collectively and time to engineer it would be worth it for tuning this pipeline to be very generalized across various video streams.\n",
    "\n",
    "Additionally the size of the training set I used is relatively small (~5,000 images of labeled data) and using a larger training set would be beneficial. While I ended up sticking with SVC so that it would be efficienct in term of speed it's likely that a CNN would perform much better for the image classification task. "
   ]
  },
  {
   "cell_type": "code",
   "execution_count": null,
   "metadata": {
    "collapsed": true
   },
   "outputs": [],
   "source": []
  },
  {
   "cell_type": "code",
   "execution_count": null,
   "metadata": {
    "collapsed": true
   },
   "outputs": [],
   "source": []
  }
 ],
 "metadata": {
  "kernelspec": {
   "display_name": "Python 3",
   "language": "python",
   "name": "python3"
  },
  "language_info": {
   "codemirror_mode": {
    "name": "ipython",
    "version": 3
   },
   "file_extension": ".py",
   "mimetype": "text/x-python",
   "name": "python",
   "nbconvert_exporter": "python",
   "pygments_lexer": "ipython3",
   "version": "3.5.2"
  },
  "widgets": {
   "state": {},
   "version": "1.1.2"
  }
 },
 "nbformat": 4,
 "nbformat_minor": 2
}
